{
 "cells": [
  {
   "cell_type": "markdown",
   "metadata": {},
   "source": [
    "# Speed-up GT generation\n",
    "[OCR4all](https://github.com/OCR4all) is a great (and easy-to-use) tool to do high-quality OCR of old books. In order to get good results (over 99% correctness is possible) GT must be generated. Within the OCR4all workflow, this is done with LAREX. LAREX allows for very detailed annotation, as of now, however, it doesn't provide any batch editing features.\n",
    "\n",
    "The following script offers a very simplistic method to select and correct particularly interesting lines. The selection is done via REGEX. It can be useful to focus on certain patterns during GT creation. If you notice e.g. a very poor performance of your models when it comes to numbers, you can choose specifically lines containing numbers (`regex = r\"\\d+\"`), if you notice that 'ſſ' is often transcribed as 'ſf', you can filter these lines with `regex = r\"(fſ|ſf)\"` and so on."
   ]
  },
  {
   "cell_type": "code",
   "execution_count": null,
   "metadata": {},
   "outputs": [],
   "source": [
    "# Import necessary modules\n",
    "from glob import glob\n",
    "from lxml import etree\n",
    "from matplotlib import pyplot as plt\n",
    "import re\n",
    "from shapely.geometry import Polygon\n",
    "import matplotlib.image as mpimg\n",
    "import numpy as np\n",
    "import shutil\n",
    "import os\n",
    "import pyperclip"
   ]
  },
  {
   "cell_type": "code",
   "execution_count": null,
   "metadata": {},
   "outputs": [],
   "source": [
    "# Provide the path to the OCR4all project directory (contains folders `input` and `processing`):\n",
    "project_directory = \"\""
   ]
  },
  {
   "cell_type": "code",
   "execution_count": null,
   "metadata": {},
   "outputs": [],
   "source": [
    "pagexml = glob(project_directory+\"/processing/*.xml\")\n",
    "pagexml.sort()"
   ]
  },
  {
   "cell_type": "code",
   "execution_count": null,
   "metadata": {},
   "outputs": [],
   "source": [
    "regex = r\"\\d+\""
   ]
  },
  {
   "cell_type": "markdown",
   "metadata": {},
   "source": [
    "The script shows line snippets and the ocr transcription. The ocr transcription is also stored in the clipboard and can be pasted easily (ctrl+c). This is a pragmatic workaround as Python's `input()` function doesn't allow prefill. If you don't want to alter the ocr (and consequently generate no GT) hit enter. If you want to delete the line, type ` d ` (a space before and after the `d`).\n",
    "If changes are made, the original PageXML is overwritten, but a backup is written to the `backup_processing` directory. It is, of course, wise to use (e.g.) git as well for tracking changes."
   ]
  },
  {
   "cell_type": "code",
   "execution_count": null,
   "metadata": {},
   "outputs": [],
   "source": [
    "for page in pagexml[12:]:\n",
    "    print(page)\n",
    "    img_basename = page.split('/')\n",
    "    tree = etree.parse(page)\n",
    "    NSMAP = {'xmlns' : tree.xpath('namespace-uri(.)')}\n",
    "    imageFilename, imageHeight, imageWidth = tree.find('xmlns:Page', NSMAP).attrib.values()\n",
    "    img = mpimg.imread(project_directory+\"/input/\"+imageFilename)\n",
    "    lines = tree.findall('//xmlns:TextLine', NSMAP)\n",
    "    changed = False # Switch\n",
    "    for l in lines:\n",
    "        namespace = l.xpath('namespace-uri(.)')\n",
    "        try:\n",
    "            gt = l.find('xmlns:TextEquiv[@index=\"0\"]/xmlns:Unicode', NSMAP).text\n",
    "        except:\n",
    "            gt = None\n",
    "        try:\n",
    "            ocr = l.find('xmlns:TextEquiv[@index=\"1\"]/xmlns:Unicode', NSMAP).text\n",
    "        except:\n",
    "            ocr = \"\"\n",
    "        line_coords = l.find('xmlns:Coords', NSMAP).attrib['points'].split(' ')\n",
    "        vertices = [list(map(int,vertex.split(','))) for vertex in line_coords]\n",
    "        vertices.append(vertices[0])\n",
    "        xs,ys = zip(*vertices)\n",
    "        polygon = Polygon(vertices)\n",
    "        bbox = polygon.bounds\n",
    "        try:\n",
    "            match = re.search(regex,ocr)\n",
    "        except:\n",
    "            match = None\n",
    "        if not gt and match:\n",
    "            print(f\"{page}\\t{imageFilename}\")\n",
    "            print(bbox)\n",
    "            try:\n",
    "                line_snippet = img[int(bbox[1]):int(bbox[3]),int(bbox[0]):int(bbox[2])]\n",
    "                plt.imshow(line_snippet)\n",
    "                plt.show()\n",
    "                pyperclip.copy(ocr)\n",
    "                print(ocr)\n",
    "                new_gt = input()\n",
    "                if new_gt == \" d\":\n",
    "                    l.getparent().remove(l)\n",
    "                    changed = True\n",
    "                elif len(new_gt) < 2:\n",
    "                    pass\n",
    "                else:\n",
    "                    gt_elem = etree.SubElement(l,'{'+namespace+'}'+'TextEquiv', index=\"0\")\n",
    "                    gt_unicode = etree.SubElement(gt_elem,'{'+namespace+'}'+'Unicode')\n",
    "                    gt_unicode.text = new_gt\n",
    "                    changed = True\n",
    "            except Exception as e:\n",
    "                print(e)\n",
    "            plt.clf()\n",
    "    if changed:\n",
    "        # make backup of original PageXML\n",
    "        new_dir = project_directory+\"/backup_processing/\"\n",
    "        try:\n",
    "            shutil.copy(page,new_dir+img_basename[-1])\n",
    "        except FileNotFoundError:\n",
    "            \n",
    "            os.mkdir(project_directory+\"/backup_processing\")\n",
    "            shutil.copy(page,new_dir+img_basename[-1])\n",
    "        # write new tree to  \n",
    "        tree.write(open(page, 'wb'), pretty_print=False)"
   ]
  },
  {
   "cell_type": "code",
   "execution_count": null,
   "metadata": {},
   "outputs": [],
   "source": []
  }
 ],
 "metadata": {
  "kernelspec": {
   "display_name": "Python 3",
   "language": "python",
   "name": "python3"
  },
  "language_info": {
   "codemirror_mode": {
    "name": "ipython",
    "version": 3
   },
   "file_extension": ".py",
   "mimetype": "text/x-python",
   "name": "python",
   "nbconvert_exporter": "python",
   "pygments_lexer": "ipython3",
   "version": "3.6.9"
  }
 },
 "nbformat": 4,
 "nbformat_minor": 2
}
